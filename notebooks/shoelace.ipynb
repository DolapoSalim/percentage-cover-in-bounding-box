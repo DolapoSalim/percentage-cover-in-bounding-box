{
 "cells": [
  {
   "cell_type": "code",
   "execution_count": 1,
   "id": "76876a76",
   "metadata": {},
   "outputs": [],
   "source": [
    "# import neccessary libraries\n",
    "import os\n",
    "import numpy as np\n",
    "import pandas as pd\n",
    "import matplotlib.pyplot as plt"
   ]
  },
  {
   "cell_type": "code",
   "execution_count": 3,
   "id": "3bc963b0",
   "metadata": {},
   "outputs": [
    {
     "name": "stdout",
     "output_type": "stream",
     "text": [
      "[0.0, 0.9100877192982456, 0.049342105263157895, 0.8991228070175439, 0.10142543859649122, 0.8625730994152047, 0.15899122807017543, 0.8187134502923976, 0.15625, 0.7821637426900585, 0.13432017543859648, 0.7657163742690059, 0.09594298245614036, 0.7383040935672515, 0.13706140350877194, 0.7108918128654971, 0.17269736842105263, 0.6962719298245614, 0.21655701754385964, 0.6853070175438597, 0.3042763157894737, 0.6743421052631579, 0.33168859649122806, 0.6597222222222222, 0.34265350877192985, 0.6140350877192983, 0.3618421052631579, 0.5391081871345029, 0.3892543859649123, 0.5190058479532164, 0.4961622807017544, 0.49707602339181284, 0.5756578947368421, 0.4586988304093567, 0.6112938596491229, 0.43494152046783624, 0.7017543859649122, 0.38742690058479534, 0.756578947368421, 0.35635964912280704, 0.6962719298245614, 0.27960526315789475, 0.8388157894736842, 0.3088450292397661, 0.9923245614035088, 0.2942251461988304, 0.9895833333333334, 0.28326023391812866, 0.9649122807017544, 0.2722953216374269, 0.9183114035087719, 0.26864035087719296, 0.893640350877193, 0.2722953216374269, 0.8223684210526315, 0.2741228070175439, 0.7730263157894737, 0.26498538011695905, 0.7593201754385965, 0.23940058479532164, 0.6167763157894737, 0.1516812865497076, 0.5235745614035088, 0.14071637426900585, 0.5263157894736842, 0.16630116959064328, 0.6112938596491229, 0.22843567251461988, 0.6661184210526315, 0.27046783625730997, 0.6990131578947368, 0.31798245614035087, 0.6551535087719298, 0.3271198830409357, 0.512609649122807, 0.2850877192982456, 0.41118421052631576, 0.2412280701754386, 0.35635964912280704, 0.23940058479532164, 0.3508771929824561, 0.27046783625730997, 0.4029605263157895, 0.3125, 0.4303728070175439, 0.34173976608187134, 0.4331140350877193, 0.3929093567251462, 0.3892543859649123, 0.44042397660818716, 0.3645833333333333, 0.4239766081871345, 0.38651315789473684, 0.36915204678362573, 0.30153508771929827, 0.2887426900584795, 0.28234649122807015, 0.29605263157894735, 0.26864035087719296, 0.3746345029239766, 0.29605263157894735, 0.43128654970760233, 0.3125, 0.47514619883040937, 0.25493421052631576, 0.47149122807017546, 0.25493421052631576, 0.5153508771929824, 0.22203947368421054, 0.6158625730994152, 0.20559210526315788, 0.6798245614035088, 0.15076754385964913, 0.6834795321637427, 0.09594298245614036, 0.6761695906432749, 0.03289473684210526, 0.6067251461988304, 0.0, 0.5628654970760234, 0.0, 0.6432748538011696, 0.021929824561403508, 0.7182017543859649, 0.027412280701754384, 0.7730263157894737, 0.0, 0.8516081871345029, 0.0, 0.9100877192982456]\n"
     ]
    }
   ],
   "source": [
    "txt_file_path = r\"C:\\Users\\dolap\\OneDrive\\Documents\\DOLAPO\\SCHOOL\\UNIPISA PHD\\RESEARCH\\MODEL\\ENSEMBLE MODEL\\DATASET\\tuscan macroalgae recognition.v4-main_version_v3_3-13-25.yolov11\\test\\labels\\IMG_6970_JPG.rf.4b23252d4ae901174e2934bce1649e42.txt\"\n",
    "\n",
    "with open(txt_file_path, 'r') as file:\n",
    "    lines = file.readlines()\n",
    "\n",
    "# Assuming you only have ONE line per file (typical YOLO label file)\n",
    "for line in lines:\n",
    "    numbers = line.strip().split()   # Split by spaces\n",
    "    coords = list(map(float, numbers[1:]))  # Skip the first item (label), then convert the rest to floats\n",
    "\n",
    "print(coords)\n"
   ]
  },
  {
   "cell_type": "code",
   "execution_count": 10,
   "id": "d3d886db",
   "metadata": {},
   "outputs": [
    {
     "name": "stdout",
     "output_type": "stream",
     "text": [
      "[0.52, 0.35, 0.49, 0.31, 0.44, 0.31, 0.42, 0.29, 0.4, 0.26, 0.36, 0.18, 0.35, 0.11, 0.33, 0.03, 0.32, 0.0, 1.0, 0.0, 1.0, 0.99, 0.56, 1.0, 0.55, 0.95, 0.56, 0.91, 0.54, 0.86, 0.52, 0.84, 0.5, 0.81, 0.49, 0.77, 0.49, 0.71, 0.5, 0.66, 0.52, 0.67, 0.53, 0.68, 0.55, 0.66, 0.54, 0.6, 0.55, 0.56, 0.58, 0.56, 0.58, 0.55, 0.56, 0.49, 0.52, 0.45, 0.52, 0.39, 0.52, 0.37, 0.51, 0.34, 0.51, 0.35, 0.52, 0.35]\n"
     ]
    }
   ],
   "source": [
    "# Used this from PolyZone to get the coordinates\n",
    "coords_array = [\n",
    "    np.array([\n",
    "        [0.52, 0.35], [0.49, 0.31], [0.44, 0.31], [0.42, 0.29], [0.4, 0.26],\n",
    "        [0.36, 0.18], [0.35, 0.11], [0.33, 0.03], [0.32, 0], [1, 0],\n",
    "        [1, 0.99], [0.56, 1], [0.55, 0.95], [0.56, 0.91], [0.54, 0.86],\n",
    "        [0.52, 0.84], [0.5, 0.81], [0.49, 0.77], [0.49, 0.71], [0.5, 0.66],\n",
    "        [0.52, 0.67], [0.53, 0.68], [0.55, 0.66], [0.54, 0.6], [0.55, 0.56],\n",
    "        [0.58, 0.56], [0.58, 0.55], [0.56, 0.49], [0.52, 0.45], [0.52, 0.39],\n",
    "        [0.52, 0.37], [0.51, 0.34], [0.51, 0.35], [0.52, 0.35]\n",
    "    ])\n",
    "]\n",
    "\n",
    "# Flatten the array\n",
    "normalized_coords = coords_array[0].flatten().tolist()\n",
    "\n",
    "print(normalized_coords)"
   ]
  },
  {
   "cell_type": "code",
   "execution_count": 11,
   "id": "493358b2",
   "metadata": {},
   "outputs": [
    {
     "data": {
      "text/plain": [
       "[0.52,\n",
       " 0.35,\n",
       " 0.49,\n",
       " 0.31,\n",
       " 0.44,\n",
       " 0.31,\n",
       " 0.42,\n",
       " 0.29,\n",
       " 0.4,\n",
       " 0.26,\n",
       " 0.36,\n",
       " 0.18,\n",
       " 0.35,\n",
       " 0.11,\n",
       " 0.33,\n",
       " 0.03,\n",
       " 0.32,\n",
       " 0.0,\n",
       " 1.0,\n",
       " 0.0,\n",
       " 1.0,\n",
       " 0.99,\n",
       " 0.56,\n",
       " 1.0,\n",
       " 0.55,\n",
       " 0.95,\n",
       " 0.56,\n",
       " 0.91,\n",
       " 0.54,\n",
       " 0.86,\n",
       " 0.52,\n",
       " 0.84,\n",
       " 0.5,\n",
       " 0.81,\n",
       " 0.49,\n",
       " 0.77,\n",
       " 0.49,\n",
       " 0.71,\n",
       " 0.5,\n",
       " 0.66,\n",
       " 0.52,\n",
       " 0.67,\n",
       " 0.53,\n",
       " 0.68,\n",
       " 0.55,\n",
       " 0.66,\n",
       " 0.54,\n",
       " 0.6,\n",
       " 0.55,\n",
       " 0.56,\n",
       " 0.58,\n",
       " 0.56,\n",
       " 0.58,\n",
       " 0.55,\n",
       " 0.56,\n",
       " 0.49,\n",
       " 0.52,\n",
       " 0.45,\n",
       " 0.52,\n",
       " 0.39,\n",
       " 0.52,\n",
       " 0.37,\n",
       " 0.51,\n",
       " 0.34,\n",
       " 0.51,\n",
       " 0.35,\n",
       " 0.52,\n",
       " 0.35]"
      ]
     },
     "execution_count": 11,
     "metadata": {},
     "output_type": "execute_result"
    }
   ],
   "source": [
    "normalized_coords"
   ]
  },
  {
   "cell_type": "code",
   "execution_count": 12,
   "id": "5dfa8cb6",
   "metadata": {},
   "outputs": [],
   "source": [
    "# Convert normalized coordinates to pixel coordinates\n",
    "img_width = 5472\n",
    "img_height = 3648\n",
    "pixel_coords = []\n",
    "for i in range(0, len(normalized_coords), 2):\n",
    "    x = normalized_coords[i] * img_width\n",
    "    y = normalized_coords[i+1] * img_height\n",
    "    pixel_coords.append((x, y))"
   ]
  },
  {
   "cell_type": "code",
   "execution_count": 13,
   "id": "82b04a90",
   "metadata": {},
   "outputs": [],
   "source": [
    "# Convert to numpy array for easier manipulation\n",
    "coords = np.array(pixel_coords)"
   ]
  },
  {
   "cell_type": "code",
   "execution_count": 14,
   "id": "85499fd9",
   "metadata": {},
   "outputs": [],
   "source": [
    "# Calculate area using the Shoelace formula\n",
    "x = coords[:, 0]\n",
    "y = coords[:, 1]\n",
    "area = 0.5 * np.abs(np.dot(x, np.roll(y, 1)) - np.dot(y, np.roll(x, 1)))"
   ]
  },
  {
   "cell_type": "code",
   "execution_count": 15,
   "id": "846a43a0",
   "metadata": {},
   "outputs": [],
   "source": [
    "total_image_area = img_width * img_height\n",
    "percentage = (area / total_image_area) * 100"
   ]
  },
  {
   "cell_type": "code",
   "execution_count": 17,
   "id": "90af5a30",
   "metadata": {},
   "outputs": [
    {
     "name": "stdout",
     "output_type": "stream",
     "text": [
      "51.870000000000026\n"
     ]
    }
   ],
   "source": [
    "print(percentage)"
   ]
  },
  {
   "cell_type": "code",
   "execution_count": 18,
   "id": "1e62eb92",
   "metadata": {},
   "outputs": [
    {
     "name": "stdout",
     "output_type": "stream",
     "text": [
      "\n",
      "Polygon area: 10354214.71 square pixels\n",
      "Image area: 19961856 square pixels\n",
      "Percentage coverage: 51.87%\n"
     ]
    }
   ],
   "source": [
    "print(f\"\\nPolygon area: {area:.2f} square pixels\")\n",
    "print(f\"Image area: {total_image_area} square pixels\")\n",
    "print(f\"Percentage coverage: {percentage:.2f}%\")"
   ]
  }
 ],
 "metadata": {
  "kernelspec": {
   "display_name": "opencv-env",
   "language": "python",
   "name": "python3"
  },
  "language_info": {
   "codemirror_mode": {
    "name": "ipython",
    "version": 3
   },
   "file_extension": ".py",
   "mimetype": "text/x-python",
   "name": "python",
   "nbconvert_exporter": "python",
   "pygments_lexer": "ipython3",
   "version": "3.13.1"
  }
 },
 "nbformat": 4,
 "nbformat_minor": 5
}
